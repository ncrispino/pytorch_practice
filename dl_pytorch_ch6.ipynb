{
 "cells": [
  {
   "cell_type": "code",
   "execution_count": 1,
   "metadata": {},
   "outputs": [],
   "source": [
    "import torch\n",
    "import torch.optim as optim"
   ]
  },
  {
   "cell_type": "code",
   "execution_count": 2,
   "metadata": {},
   "outputs": [],
   "source": [
    "t_c = [0.5,  14.0, 15.0, 28.0, 11.0,  8.0,  3.0, -4.0,  6.0, 13.0, 21.0] # Celsius\n",
    "t_u = [35.7, 55.9, 58.2, 81.9, 56.3, 48.9, 33.9, 21.8, 48.4, 60.4, 68.4] # unknown\n",
    "t_c = torch.tensor(t_c)\n",
    "t_u = torch.tensor(t_u)"
   ]
  },
  {
   "cell_type": "code",
   "execution_count": 3,
   "metadata": {},
   "outputs": [
    {
     "data": {
      "text/plain": [
       "(tensor([ 1,  6,  9,  8,  5,  3,  7,  0, 10]), tensor([2, 4]))"
      ]
     },
     "execution_count": 3,
     "metadata": {},
     "output_type": "execute_result"
    }
   ],
   "source": [
    "n_samples = t_u.shape[0]\n",
    "n_val = int(0.2 * n_samples)\n",
    "\n",
    "shuffled_indices = torch.randperm(n_samples) # random permutation of ints from 0 to n_samples - 1\n",
    "train_indices = shuffled_indices[:-n_val]\n",
    "val_indices = shuffled_indices[-n_val:]\n",
    "train_indices, val_indices"
   ]
  },
  {
   "cell_type": "code",
   "execution_count": 4,
   "metadata": {},
   "outputs": [],
   "source": [
    "train_t_u = t_u[train_indices].unsqueeze(1)\n",
    "train_t_c = t_c[train_indices].unsqueeze(1)\n",
    "\n",
    "val_t_u = t_u[val_indices].unsqueeze(1)\n",
    "val_t_c = t_c[val_indices].unsqueeze(1)\n",
    "\n",
    "train_t_un = 0.1 * train_t_u\n",
    "val_t_un = 0.1 * val_t_u"
   ]
  },
  {
   "cell_type": "markdown",
   "metadata": {},
   "source": [
    "## Artificial Neural Networks\n",
    "Note: saturated when changes in input result in little/no changes to output.\n",
    "\n",
    "PyTorch has building blocks called modules. A PyTorch module is a class derived from nn.Module and can have one or more Parameter instances as attributes, which are tensors whose value is optimized during the training process."
   ]
  },
  {
   "cell_type": "code",
   "execution_count": 5,
   "metadata": {},
   "outputs": [
    {
     "data": {
      "text/plain": [
       "tensor([[[-4.1361]],\n",
       "\n",
       "        [[-3.9751]]], grad_fn=<AddBackward0>)"
      ]
     },
     "execution_count": 5,
     "metadata": {},
     "output_type": "execute_result"
    }
   ],
   "source": [
    "import torch.nn as nn\n",
    "\n",
    "# Linear is a subclass of nn.Module, which means it has a __call__ method defined. Use it.\n",
    "linear_model = nn.Linear(1, 1) # args are input size, output size, bias(=True default)\n",
    "linear_model(val_t_un.unsqueeze(1))"
   ]
  },
  {
   "cell_type": "code",
   "execution_count": 6,
   "metadata": {},
   "outputs": [
    {
     "data": {
      "text/plain": [
       "Parameter containing:\n",
       "tensor([[-0.8473]], requires_grad=True)"
      ]
     },
     "execution_count": 6,
     "metadata": {},
     "output_type": "execute_result"
    }
   ],
   "source": [
    "linear_model.weight"
   ]
  },
  {
   "cell_type": "code",
   "execution_count": 7,
   "metadata": {},
   "outputs": [
    {
     "data": {
      "text/plain": [
       "Parameter containing:\n",
       "tensor([0.7953], requires_grad=True)"
      ]
     },
     "execution_count": 7,
     "metadata": {},
     "output_type": "execute_result"
    }
   ],
   "source": [
    "linear_model.bias"
   ]
  },
  {
   "cell_type": "code",
   "execution_count": 8,
   "metadata": {},
   "outputs": [
    {
     "data": {
      "text/plain": [
       "tensor([-0.0520], grad_fn=<AddBackward0>)"
      ]
     },
     "execution_count": 8,
     "metadata": {},
     "output_type": "execute_result"
    }
   ],
   "source": [
    "x = torch.ones(1)\n",
    "linear_model(x)"
   ]
  },
  {
   "cell_type": "markdown",
   "metadata": {},
   "source": [
    "Any module in ```nn``` written to produce output for a batch of multiple inputs. The first dimension of the input is the batch dim.\n",
    "\n",
    "Need tensor of size B x Nin where B is size of batch and Nin is number of inputs. For example, for 10 samples need 10 x 1 input.\n",
    "\n",
    "Output is tensor of size B x Nout."
   ]
  },
  {
   "cell_type": "code",
   "execution_count": 9,
   "metadata": {},
   "outputs": [
    {
     "data": {
      "text/plain": [
       "tensor([[-0.0520],\n",
       "        [-0.0520],\n",
       "        [-0.0520],\n",
       "        [-0.0520],\n",
       "        [-0.0520],\n",
       "        [-0.0520],\n",
       "        [-0.0520],\n",
       "        [-0.0520],\n",
       "        [-0.0520],\n",
       "        [-0.0520]], grad_fn=<AddmmBackward0>)"
      ]
     },
     "execution_count": 9,
     "metadata": {},
     "output_type": "execute_result"
    }
   ],
   "source": [
    "x = torch.ones(10, 1)\n",
    "linear_model(x)"
   ]
  },
  {
   "cell_type": "markdown",
   "metadata": {},
   "source": [
    "Change prev input to be of desired input form B x Nin."
   ]
  },
  {
   "cell_type": "code",
   "execution_count": 10,
   "metadata": {},
   "outputs": [
    {
     "data": {
      "text/plain": [
       "(torch.Size([11, 1]), torch.Size([11, 1]))"
      ]
     },
     "execution_count": 10,
     "metadata": {},
     "output_type": "execute_result"
    }
   ],
   "source": [
    "t_c = t_c.unsqueeze(1)\n",
    "t_u = t_u.unsqueeze(1)\n",
    "t_c.shape, t_u.shape"
   ]
  },
  {
   "cell_type": "markdown",
   "metadata": {},
   "source": [
    "Now fit model."
   ]
  },
  {
   "cell_type": "code",
   "execution_count": 11,
   "metadata": {},
   "outputs": [],
   "source": [
    "linear_model = nn.Linear(1, 1)\n",
    "optimizer = optim.SGD(linear_model.parameters(), lr=1e-2)"
   ]
  },
  {
   "cell_type": "code",
   "execution_count": 12,
   "metadata": {},
   "outputs": [
    {
     "data": {
      "text/plain": [
       "[Parameter containing:\n",
       " tensor([[-0.4061]], requires_grad=True),\n",
       " Parameter containing:\n",
       " tensor([-0.2528], requires_grad=True)]"
      ]
     },
     "execution_count": 12,
     "metadata": {},
     "output_type": "execute_result"
    }
   ],
   "source": [
    "list(linear_model.parameters())"
   ]
  },
  {
   "cell_type": "markdown",
   "metadata": {},
   "source": [
    "Now create training loop with model passed in instead of individual params. Also use loss functions from ```torch.nn``` directly, which are subclasses of ```nn.Module``` so need to be created as an instance."
   ]
  },
  {
   "cell_type": "code",
   "execution_count": 13,
   "metadata": {},
   "outputs": [],
   "source": [
    "def training_loop(n_epochs, optimizer, model, loss_fn, t_u_train, t_u_val, t_c_train, t_c_val, print_vals=True):\n",
    "    for epoch in range(1, n_epochs + 1):\n",
    "        t_p_train = model(t_u_train)\n",
    "        train_loss = loss_fn(t_p_train, t_c_train)\n",
    "        \n",
    "        t_p_val = model(t_u_val)\n",
    "        val_loss = loss_fn(t_p_val, t_c_val)\n",
    "        \n",
    "        optimizer.zero_grad()\n",
    "        train_loss.backward()\n",
    "        optimizer.step()\n",
    "        \n",
    "        if print_vals:\n",
    "            if (epoch == 1 or epoch % 1000 == 0) and (epoch != n_epochs):\n",
    "                print(f\"Epoch {epoch}, Training loss {train_loss.item():.4f},\"\n",
    "                      f\" Validation loss {val_loss.item():.4f}\")\n",
    "    print(f\"Epoch {epoch}, Training loss {train_loss.item():.4f},\"\n",
    "              f\" Validation loss {val_loss.item():.4f}\")"
   ]
  },
  {
   "cell_type": "code",
   "execution_count": 14,
   "metadata": {},
   "outputs": [
    {
     "name": "stdout",
     "output_type": "stream",
     "text": [
      "Epoch 1, Training loss 90.9806, Validation loss 62.7878\n",
      "Epoch 1000, Training loss 3.5465, Validation loss 2.5739\n",
      "Epoch 2000, Training loss 3.0434, Validation loss 2.5045\n",
      "Epoch 3000, Training loss 3.0355, Validation loss 2.4961\n",
      "Parameter containing:\n",
      "tensor([[5.3719]], requires_grad=True) Parameter containing:\n",
      "tensor([-17.2280], requires_grad=True)\n"
     ]
    }
   ],
   "source": [
    "linear_model = nn.Linear(1, 1)\n",
    "optimizer = optim.SGD(linear_model.parameters(), lr=1e-2)\n",
    "\n",
    "training_loop(3000, optimizer, linear_model, nn.MSELoss(), train_t_un, val_t_un, train_t_c, val_t_c)\n",
    "\n",
    "print(linear_model.weight, linear_model.bias)"
   ]
  },
  {
   "cell_type": "markdown",
   "metadata": {},
   "source": [
    "Extending model to have one hidden layer."
   ]
  },
  {
   "cell_type": "code",
   "execution_count": 15,
   "metadata": {},
   "outputs": [
    {
     "data": {
      "text/plain": [
       "Sequential(\n",
       "  (0): Linear(in_features=1, out_features=13, bias=True)\n",
       "  (1): Tanh()\n",
       "  (2): Linear(in_features=13, out_features=1, bias=True)\n",
       ")"
      ]
     },
     "execution_count": 15,
     "metadata": {},
     "output_type": "execute_result"
    }
   ],
   "source": [
    "seq_model = nn.Sequential(nn.Linear(1, 13), \n",
    "                          nn.Tanh(), \n",
    "                          nn.Linear(13, 1))\n",
    "seq_model"
   ]
  },
  {
   "cell_type": "code",
   "execution_count": 16,
   "metadata": {},
   "outputs": [
    {
     "data": {
      "text/plain": [
       "[torch.Size([13, 1]), torch.Size([13]), torch.Size([1, 13]), torch.Size([1])]"
      ]
     },
     "execution_count": 16,
     "metadata": {},
     "output_type": "execute_result"
    }
   ],
   "source": [
    "[param.shape for param in seq_model.parameters()] # weight and bias from both first and second linear modules"
   ]
  },
  {
   "cell_type": "code",
   "execution_count": 17,
   "metadata": {},
   "outputs": [
    {
     "name": "stdout",
     "output_type": "stream",
     "text": [
      "0.weight torch.Size([13, 1])\n",
      "0.bias torch.Size([13])\n",
      "2.weight torch.Size([1, 13])\n",
      "2.bias torch.Size([1])\n"
     ]
    }
   ],
   "source": [
    "for name, param in seq_model.named_parameters():\n",
    "    print(name, param.shape)"
   ]
  },
  {
   "cell_type": "markdown",
   "metadata": {},
   "source": [
    "Can also explicitly name layers."
   ]
  },
  {
   "cell_type": "code",
   "execution_count": 18,
   "metadata": {},
   "outputs": [
    {
     "data": {
      "text/plain": [
       "Sequential(\n",
       "  (hidden_linear): Linear(in_features=1, out_features=8, bias=True)\n",
       "  (hidden_activation): Tanh()\n",
       "  (output_linear): Linear(in_features=8, out_features=1, bias=True)\n",
       ")"
      ]
     },
     "execution_count": 18,
     "metadata": {},
     "output_type": "execute_result"
    }
   ],
   "source": [
    "from collections import OrderedDict\n",
    "\n",
    "seq_model = nn.Sequential(OrderedDict([('hidden_linear', nn.Linear(1, 8)),\n",
    "                                       ('hidden_activation', nn.Tanh()),\n",
    "                                       ('output_linear', nn.Linear(8, 1))\n",
    "                                      ]))\n",
    "seq_model"
   ]
  },
  {
   "cell_type": "code",
   "execution_count": 19,
   "metadata": {},
   "outputs": [
    {
     "name": "stdout",
     "output_type": "stream",
     "text": [
      "hidden_linear.weight torch.Size([8, 1])\n",
      "hidden_linear.bias torch.Size([8])\n",
      "output_linear.weight torch.Size([1, 8])\n",
      "output_linear.bias torch.Size([1])\n"
     ]
    }
   ],
   "source": [
    "for name, param in seq_model.named_parameters():\n",
    "    print(name, param.shape)"
   ]
  },
  {
   "cell_type": "code",
   "execution_count": 20,
   "metadata": {},
   "outputs": [
    {
     "data": {
      "text/plain": [
       "Parameter containing:\n",
       "tensor([[ 0.2599,  0.2669,  0.1643,  0.3208,  0.0530,  0.0124,  0.1690, -0.0409]],\n",
       "       requires_grad=True)"
      ]
     },
     "execution_count": 20,
     "metadata": {},
     "output_type": "execute_result"
    }
   ],
   "source": [
    "seq_model.output_linear.weight "
   ]
  },
  {
   "cell_type": "code",
   "execution_count": 21,
   "metadata": {},
   "outputs": [
    {
     "data": {
      "text/plain": [
       "Parameter containing:\n",
       "tensor([-0.2942], requires_grad=True)"
      ]
     },
     "execution_count": 21,
     "metadata": {},
     "output_type": "execute_result"
    }
   ],
   "source": [
    "seq_model.output_linear.bias"
   ]
  },
  {
   "cell_type": "markdown",
   "metadata": {},
   "source": [
    "Run training loop with sequential model."
   ]
  },
  {
   "cell_type": "code",
   "execution_count": 22,
   "metadata": {},
   "outputs": [
    {
     "name": "stdout",
     "output_type": "stream",
     "text": [
      "Epoch 1, Training loss 203.1317, Validation loss 189.2796\n",
      "Epoch 1000, Training loss 4.7918, Validation loss 2.5514\n",
      "Epoch 2000, Training loss 3.6606, Validation loss 4.9500\n",
      "Epoch 3000, Training loss 2.1354, Validation loss 1.9012\n",
      "Epoch 4000, Training loss 1.9113, Validation loss 1.8788\n",
      "Epoch 5000, Training loss 1.8342, Validation loss 1.9448\n",
      "output tensor([[13.3735],\n",
      "        [12.1154]], grad_fn=<AddmmBackward0>)\n",
      "answer tensor([[15.],\n",
      "        [11.]])\n",
      "hidden tensor([[ 0.0101],\n",
      "        [-0.0186],\n",
      "        [-0.0200],\n",
      "        [-0.0232],\n",
      "        [-0.0178],\n",
      "        [ 0.0113],\n",
      "        [-0.0074],\n",
      "        [ 0.0266]])\n"
     ]
    }
   ],
   "source": [
    "optimizer = optim.SGD(seq_model.parameters(), 1e-3)\n",
    "\n",
    "training_loop(5000, optimizer, seq_model, nn.MSELoss(), train_t_un, val_t_un, train_t_c, val_t_c)\n",
    "\n",
    "print('output', seq_model(val_t_un))\n",
    "print('answer', val_t_c)\n",
    "print('hidden', seq_model.hidden_linear.weight.grad)"
   ]
  },
  {
   "cell_type": "markdown",
   "metadata": {},
   "source": [
    "Compare with linear model."
   ]
  },
  {
   "cell_type": "code",
   "execution_count": 23,
   "metadata": {},
   "outputs": [
    {
     "data": {
      "text/plain": [
       "[<matplotlib.lines.Line2D at 0x1f506089888>]"
      ]
     },
     "execution_count": 23,
     "metadata": {},
     "output_type": "execute_result"
    },
    {
     "data": {
      "image/png": "[encoded data removed]",
      "text/plain": [
       "<Figure size 432x288 with 1 Axes>"
      ]
     },
     "metadata": {
      "needs_background": "light"
     },
     "output_type": "display_data"
    }
   ],
   "source": [
    "from matplotlib import pyplot as plt\n",
    "\n",
    "t_range = torch.arange(20, 90).unsqueeze(1)\n",
    "fig, ax = plt.subplots()\n",
    "ax.set(xlabel=\"Fahrenheit\", ylabel=\"Celsius\")\n",
    "ax.plot(t_u.numpy(), t_c.numpy(), 'o') # correct labels\n",
    "ax.plot(t_range.numpy(), seq_model(0.1 * t_range).detach().numpy(), 'c-') # whole curve (behavior between samples)\n",
    "ax.plot(t_u.numpy(), seq_model(0.1 * t_u).detach().numpy(), 'kx') # fitted values"
   ]
  },
  {
   "cell_type": "markdown",
   "metadata": {},
   "source": [
    "## Exercises\n",
    "**1. Changing number of hidden neurons and learning rate.**"
   ]
  },
  {
   "cell_type": "code",
   "execution_count": 24,
   "metadata": {},
   "outputs": [],
   "source": [
    "def run_model(n_neurons, learning_rate=1e-3, print_vals=False, print_weights=False):\n",
    "    seq_model = nn.Sequential(nn.Linear(1, n_neurons), \n",
    "                              nn.Tanh(), \n",
    "                              nn.Linear(n_neurons, 1))\n",
    "\n",
    "    optimizer = optim.SGD(seq_model.parameters(), learning_rate)\n",
    "\n",
    "    training_loop(5000, optimizer, seq_model, nn.MSELoss(), train_t_un, val_t_un, train_t_c, val_t_c, print_vals)\n",
    "    \n",
    "    print('output', seq_model(val_t_un))\n",
    "    if print_weights:        \n",
    "        print('answer', val_t_c)\n",
    "        print('hidden', seq_model[2].weight.grad)"
   ]
  },
  {
   "cell_type": "code",
   "execution_count": 25,
   "metadata": {
    "scrolled": true
   },
   "outputs": [
    {
     "name": "stdout",
     "output_type": "stream",
     "text": [
      "\n",
      "1 neurons in hidden layer:\n",
      "\n",
      "Epoch 5000, Training loss 13.6701, Validation loss 29.5779\n",
      "output tensor([[10.7769],\n",
      "        [ 8.8936]], grad_fn=<AddmmBackward0>)\n",
      "\n",
      "2 neurons in hidden layer:\n",
      "\n",
      "Epoch 5000, Training loss 2.9871, Validation loss 5.9727\n",
      "output tensor([[14.3782],\n",
      "        [12.7827]], grad_fn=<AddmmBackward0>)\n",
      "\n",
      "3 neurons in hidden layer:\n",
      "\n",
      "Epoch 5000, Training loss 1.8457, Validation loss 2.2080\n",
      "output tensor([[13.5465],\n",
      "        [12.2392]], grad_fn=<AddmmBackward0>)\n",
      "\n",
      "4 neurons in hidden layer:\n",
      "\n",
      "Epoch 5000, Training loss 1.8269, Validation loss 1.9150\n",
      "output tensor([[13.2912],\n",
      "        [11.9555]], grad_fn=<AddmmBackward0>)\n",
      "\n",
      "5 neurons in hidden layer:\n",
      "\n",
      "Epoch 5000, Training loss 1.7999, Validation loss 1.7881\n",
      "output tensor([[13.1286],\n",
      "        [11.8232]], grad_fn=<AddmmBackward0>)\n",
      "\n",
      "6 neurons in hidden layer:\n",
      "\n",
      "Epoch 5000, Training loss 1.8492, Validation loss 1.7803\n",
      "output tensor([[12.9010],\n",
      "        [11.6277]], grad_fn=<AddmmBackward0>)\n",
      "\n",
      "7 neurons in hidden layer:\n",
      "\n",
      "Epoch 5000, Training loss 1.7754, Validation loss 1.9388\n",
      "output tensor([[13.3180],\n",
      "        [12.0239]], grad_fn=<AddmmBackward0>)\n",
      "\n",
      "8 neurons in hidden layer:\n",
      "\n",
      "Epoch 5000, Training loss 1.8701, Validation loss 1.8307\n",
      "output tensor([[12.8605],\n",
      "        [11.6316]], grad_fn=<AddmmBackward0>)\n",
      "\n",
      "9 neurons in hidden layer:\n",
      "\n",
      "Epoch 5000, Training loss 1.7731, Validation loss 1.9505\n",
      "output tensor([[13.3162],\n",
      "        [12.0324]], grad_fn=<AddmmBackward0>)\n",
      "\n",
      "10 neurons in hidden layer:\n",
      "\n",
      "Epoch 5000, Training loss 1.8391, Validation loss 2.2180\n",
      "output tensor([[13.7190],\n",
      "        [12.4070]], grad_fn=<AddmmBackward0>)\n"
     ]
    }
   ],
   "source": [
    "for n in range(1, 11):\n",
    "    print(f'\\n{n} neurons in hidden layer:\\n')\n",
    "    run_model(n)"
   ]
  },
  {
   "cell_type": "code",
   "execution_count": 26,
   "metadata": {
    "scrolled": true
   },
   "outputs": [
    {
     "name": "stdout",
     "output_type": "stream",
     "text": [
      "\n",
      "10 neurons in hidden layer:\n",
      "\n",
      "Epoch 5000, Training loss 1.8191, Validation loss 1.8084\n",
      "output tensor([[13.0271],\n",
      "        [11.7614]], grad_fn=<AddmmBackward0>)\n",
      "\n",
      "20 neurons in hidden layer:\n",
      "\n",
      "Epoch 5000, Training loss 1.8232, Validation loss 1.9429\n",
      "output tensor([[13.4234],\n",
      "        [12.1833]], grad_fn=<AddmmBackward0>)\n",
      "\n",
      "30 neurons in hidden layer:\n",
      "\n",
      "Epoch 5000, Training loss 1.9030, Validation loss 2.1139\n",
      "output tensor([[13.7308],\n",
      "        [12.4965]], grad_fn=<AddmmBackward0>)\n",
      "\n",
      "40 neurons in hidden layer:\n",
      "\n",
      "Epoch 5000, Training loss 1.9273, Validation loss 2.1165\n",
      "output tensor([[13.7663],\n",
      "        [12.5594]], grad_fn=<AddmmBackward0>)\n",
      "\n",
      "50 neurons in hidden layer:\n",
      "\n",
      "Epoch 5000, Training loss 1.9289, Validation loss 2.0075\n",
      "output tensor([[13.5408],\n",
      "        [12.3732]], grad_fn=<AddmmBackward0>)\n",
      "\n",
      "60 neurons in hidden layer:\n",
      "\n",
      "Epoch 5000, Training loss 1.9191, Validation loss 2.0091\n",
      "output tensor([[13.5254],\n",
      "        [12.3579]], grad_fn=<AddmmBackward0>)\n",
      "\n",
      "70 neurons in hidden layer:\n",
      "\n",
      "Epoch 5000, Training loss 1.9399, Validation loss 2.0278\n",
      "output tensor([[13.5379],\n",
      "        [12.3848]], grad_fn=<AddmmBackward0>)\n",
      "\n",
      "80 neurons in hidden layer:\n",
      "\n",
      "Epoch 5000, Training loss 2.4286, Validation loss 2.5413\n",
      "output tensor([[12.6615],\n",
      "        [11.5345]], grad_fn=<AddmmBackward0>)\n",
      "\n",
      "90 neurons in hidden layer:\n",
      "\n",
      "Epoch 5000, Training loss 1.9543, Validation loss 2.0348\n",
      "output tensor([[13.5510],\n",
      "        [12.4035]], grad_fn=<AddmmBackward0>)\n",
      "\n",
      "100 neurons in hidden layer:\n",
      "\n",
      "Epoch 5000, Training loss 1.9308, Validation loss 2.0306\n",
      "output tensor([[13.5199],\n",
      "        [12.3677]], grad_fn=<AddmmBackward0>)\n"
     ]
    }
   ],
   "source": [
    "for n in range(10, 110, 10):\n",
    "    print(f'\\n{n} neurons in hidden layer:\\n')\n",
    "    run_model(n)"
   ]
  },
  {
   "cell_type": "markdown",
   "metadata": {},
   "source": [
    "So, in this case increasing the number of hidden neurons increases validation loss in general. Now change the learning rate."
   ]
  },
  {
   "cell_type": "code",
   "execution_count": 27,
   "metadata": {
    "scrolled": true
   },
   "outputs": [
    {
     "name": "stdout",
     "output_type": "stream",
     "text": [
      "\n",
      "Learning Rate: 0.1\n",
      "Epoch 5000, Training loss nan, Validation loss nan\n",
      "output tensor([[nan],\n",
      "        [nan]], grad_fn=<AddmmBackward0>)\n",
      "\n",
      "Learning Rate: 0.010000000000000002\n",
      "Epoch 5000, Training loss 1.3872, Validation loss 3.2450\n",
      "output tensor([[13.1144],\n",
      "        [12.4255]], grad_fn=<AddmmBackward0>)\n",
      "\n",
      "Learning Rate: 0.0010000000000000002\n",
      "Epoch 5000, Training loss 1.8569, Validation loss 2.1651\n",
      "output tensor([[13.7125],\n",
      "        [12.4424]], grad_fn=<AddmmBackward0>)\n",
      "\n",
      "Learning Rate: 0.00010000000000000002\n",
      "Epoch 5000, Training loss 10.2521, Validation loss 2.7754\n",
      "output tensor([[13.8992],\n",
      "        [13.0831]], grad_fn=<AddmmBackward0>)\n",
      "\n",
      "Learning Rate: 1.0000000000000003e-05\n",
      "Epoch 5000, Training loss 86.2192, Validation loss 33.6671\n",
      "output tensor([[7.5685],\n",
      "        [7.5231]], grad_fn=<AddmmBackward0>)\n",
      "\n",
      "Learning Rate: 1.0000000000000004e-06\n",
      "Epoch 5000, Training loss 165.4729, Validation loss 140.7174\n",
      "output tensor([[1.3110],\n",
      "        [1.3028]], grad_fn=<AddmmBackward0>)\n",
      "\n",
      "Learning Rate: 1.0000000000000004e-07\n",
      "Epoch 5000, Training loss 185.4850, Validation loss 166.5322\n",
      "output tensor([[0.2524],\n",
      "        [0.2495]], grad_fn=<AddmmBackward0>)\n",
      "\n",
      "Learning Rate: 1.0000000000000005e-08\n",
      "Epoch 5000, Training loss 179.0813, Validation loss 159.0341\n",
      "output tensor([[0.5520],\n",
      "        [0.5442]], grad_fn=<AddmmBackward0>)\n",
      "\n",
      "Learning Rate: 1.0000000000000005e-09\n",
      "Epoch 5000, Training loss 196.5513, Validation loss 181.1682\n",
      "output tensor([[-0.3100],\n",
      "        [-0.3111]], grad_fn=<AddmmBackward0>)\n",
      "\n",
      "Learning Rate: 1.0000000000000006e-10\n",
      "Epoch 5000, Training loss 198.4434, Validation loss 183.1247\n",
      "output tensor([[-0.3840],\n",
      "        [-0.3834]], grad_fn=<AddmmBackward0>)\n"
     ]
    }
   ],
   "source": [
    "for lr in [0.1**i for i in range(1, 11)]:\n",
    "    print(f'\\nLearning Rate: {lr}')\n",
    "    run_model(13, lr)"
   ]
  },
  {
   "cell_type": "markdown",
   "metadata": {},
   "source": [
    "Validation loss is generally increasing as the learning rate decreases (past a certain point). Let's try learning rates around 1e-3, which seems to work best."
   ]
  },
  {
   "cell_type": "code",
   "execution_count": 28,
   "metadata": {
    "scrolled": true
   },
   "outputs": [
    {
     "name": "stdout",
     "output_type": "stream",
     "text": [
      "\n",
      "Learning Rate: 0.001\n",
      "Epoch 5000, Training loss 1.8866, Validation loss 2.2317\n",
      "output tensor([[13.7997],\n",
      "        [12.5216]], grad_fn=<AddmmBackward0>)\n",
      "\n",
      "Learning Rate: 0.002\n",
      "Epoch 5000, Training loss 1.8277, Validation loss 2.3767\n",
      "output tensor([[13.6764],\n",
      "        [12.3676]], grad_fn=<AddmmBackward0>)\n",
      "\n",
      "Learning Rate: 0.003\n",
      "Epoch 5000, Training loss 1.7798, Validation loss 1.9546\n",
      "output tensor([[12.8456],\n",
      "        [11.6816]], grad_fn=<AddmmBackward0>)\n",
      "\n",
      "Learning Rate: 0.004\n",
      "Epoch 5000, Training loss 1.5803, Validation loss 2.0687\n",
      "output tensor([[13.0278],\n",
      "        [11.9628]], grad_fn=<AddmmBackward0>)\n",
      "\n",
      "Learning Rate: 0.005\n",
      "Epoch 5000, Training loss 1.5748, Validation loss 2.0267\n",
      "output tensor([[13.1364],\n",
      "        [12.0113]], grad_fn=<AddmmBackward0>)\n",
      "\n",
      "Learning Rate: 0.006\n",
      "Epoch 5000, Training loss 1.3573, Validation loss 2.2179\n",
      "output tensor([[13.4203],\n",
      "        [12.4018]], grad_fn=<AddmmBackward0>)\n",
      "\n",
      "Learning Rate: 0.007\n",
      "Epoch 5000, Training loss 1.3641, Validation loss 2.2125\n",
      "output tensor([[13.3833],\n",
      "        [12.3452]], grad_fn=<AddmmBackward0>)\n",
      "\n",
      "Learning Rate: 0.008\n",
      "Epoch 5000, Training loss 1.3288, Validation loss 2.4337\n",
      "output tensor([[13.7701],\n",
      "        [12.7856]], grad_fn=<AddmmBackward0>)\n",
      "\n",
      "Learning Rate: 0.009000000000000001\n",
      "Epoch 5000, Training loss 1.5403, Validation loss 2.4833\n",
      "output tensor([[13.0599],\n",
      "        [12.1458]], grad_fn=<AddmmBackward0>)\n"
     ]
    }
   ],
   "source": [
    "for lr in [1e-3*i for i in range(1, 10)]:\n",
    "    print(f'\\nLearning Rate: {lr}')\n",
    "    run_model(13, lr)"
   ]
  },
  {
   "cell_type": "code",
   "execution_count": 29,
   "metadata": {
    "scrolled": true
   },
   "outputs": [
    {
     "name": "stdout",
     "output_type": "stream",
     "text": [
      "\n",
      "Learning Rate: 0.0001\n",
      "Epoch 5000, Training loss 11.5025, Validation loss 2.5825\n",
      "output tensor([[13.7046],\n",
      "        [12.8673]], grad_fn=<AddmmBackward0>)\n",
      "\n",
      "Learning Rate: 0.0002\n",
      "Epoch 5000, Training loss 4.2693, Validation loss 2.7351\n",
      "output tensor([[14.3205],\n",
      "        [13.2379]], grad_fn=<AddmmBackward0>)\n",
      "\n",
      "Learning Rate: 0.00030000000000000003\n",
      "Epoch 5000, Training loss 2.5528, Validation loss 2.0953\n",
      "output tensor([[13.9933],\n",
      "        [12.7824]], grad_fn=<AddmmBackward0>)\n",
      "\n",
      "Learning Rate: 0.0004\n",
      "Epoch 5000, Training loss 2.0873, Validation loss 1.9220\n",
      "output tensor([[13.7665],\n",
      "        [12.5239]], grad_fn=<AddmmBackward0>)\n",
      "\n",
      "Learning Rate: 0.0005\n",
      "Epoch 5000, Training loss 1.9692, Validation loss 1.8714\n",
      "output tensor([[13.7054],\n",
      "        [12.4376]], grad_fn=<AddmmBackward0>)\n",
      "\n",
      "Learning Rate: 0.0006000000000000001\n",
      "Epoch 5000, Training loss 1.9409, Validation loss 1.8815\n",
      "output tensor([[13.6668],\n",
      "        [12.4091]], grad_fn=<AddmmBackward0>)\n",
      "\n",
      "Learning Rate: 0.0007\n",
      "Epoch 5000, Training loss 1.8732, Validation loss 1.8824\n",
      "output tensor([[13.5482],\n",
      "        [12.2873]], grad_fn=<AddmmBackward0>)\n",
      "\n",
      "Learning Rate: 0.0008\n",
      "Epoch 5000, Training loss 1.8034, Validation loss 1.9107\n",
      "output tensor([[13.3981],\n",
      "        [12.1205]], grad_fn=<AddmmBackward0>)\n",
      "\n",
      "Learning Rate: 0.0009000000000000001\n",
      "Epoch 5000, Training loss 1.8468, Validation loss 1.8864\n",
      "output tensor([[13.4714],\n",
      "        [12.1984]], grad_fn=<AddmmBackward0>)\n"
     ]
    }
   ],
   "source": [
    "for lr in [1e-4*i for i in range(1, 10)]:\n",
    "    print(f'\\nLearning Rate: {lr}')\n",
    "    run_model(13, lr)"
   ]
  },
  {
   "cell_type": "markdown",
   "metadata": {},
   "source": [
    "So, it appears the best learning rate according to validation loss is around 0.0008."
   ]
  },
  {
   "cell_type": "markdown",
   "metadata": {},
   "source": [
    "**2. Create new model for wine data. Copying normalization from Ch.4 notebook**"
   ]
  },
  {
   "cell_type": "code",
   "execution_count": 30,
   "metadata": {},
   "outputs": [],
   "source": [
    "import pandas as pd\n",
    "import numpy as np"
   ]
  },
  {
   "cell_type": "code",
   "execution_count": 31,
   "metadata": {},
   "outputs": [],
   "source": [
    "wineq_pd = pd.read_csv('data/p1ch4/tabular-wine/winequality-white.csv', sep=';')\n",
    "wineq = torch.from_numpy(wineq_pd.to_numpy(dtype=np.float32))"
   ]
  },
  {
   "cell_type": "code",
   "execution_count": 32,
   "metadata": {},
   "outputs": [
    {
     "data": {
      "text/plain": [
       "(torch.Size([4898, 12]), torch.float32)"
      ]
     },
     "execution_count": 32,
     "metadata": {},
     "output_type": "execute_result"
    }
   ],
   "source": [
    "wineq.shape, wineq.dtype"
   ]
  },
  {
   "cell_type": "markdown",
   "metadata": {},
   "source": [
    "Now have a floating point tensor with all the columns including the last, which refers to the quality score."
   ]
  },
  {
   "cell_type": "code",
   "execution_count": 33,
   "metadata": {},
   "outputs": [
    {
     "data": {
      "text/plain": [
       "(tensor([[ 7.0000,  0.2700,  0.3600,  ...,  3.0000,  0.4500,  8.8000],\n",
       "         [ 6.3000,  0.3000,  0.3400,  ...,  3.3000,  0.4900,  9.5000],\n",
       "         [ 8.1000,  0.2800,  0.4000,  ...,  3.2600,  0.4400, 10.1000],\n",
       "         ...,\n",
       "         [ 6.5000,  0.2400,  0.1900,  ...,  2.9900,  0.4600,  9.4000],\n",
       "         [ 5.5000,  0.2900,  0.3000,  ...,  3.3400,  0.3800, 12.8000],\n",
       "         [ 6.0000,  0.2100,  0.3800,  ...,  3.2600,  0.3200, 11.8000]]),\n",
       " torch.Size([4898, 11]))"
      ]
     },
     "execution_count": 33,
     "metadata": {},
     "output_type": "execute_result"
    }
   ],
   "source": [
    "data = wineq[:, :-1] # excluding score\n",
    "data, data.shape"
   ]
  },
  {
   "cell_type": "code",
   "execution_count": 34,
   "metadata": {},
   "outputs": [
    {
     "data": {
      "text/plain": [
       "(tensor([6., 6., 6.,  ..., 6., 7., 6.]), torch.Size([4898]))"
      ]
     },
     "execution_count": 34,
     "metadata": {},
     "output_type": "execute_result"
    }
   ],
   "source": [
    "target = wineq[:, -1]\n",
    "target, target.shape"
   ]
  },
  {
   "cell_type": "markdown",
   "metadata": {},
   "source": [
    "One-hot encoding"
   ]
  },
  {
   "cell_type": "code",
   "execution_count": 35,
   "metadata": {},
   "outputs": [
    {
     "data": {
      "text/plain": [
       "tensor([6., 6., 6.,  ..., 6., 7., 6.])"
      ]
     },
     "execution_count": 35,
     "metadata": {},
     "output_type": "execute_result"
    }
   ],
   "source": [
    "target"
   ]
  },
  {
   "cell_type": "code",
   "execution_count": 36,
   "metadata": {},
   "outputs": [
    {
     "data": {
      "text/plain": [
       "tensor([[0., 0., 0.,  ..., 0., 0., 0.],\n",
       "        [0., 0., 0.,  ..., 0., 0., 0.],\n",
       "        [0., 0., 0.,  ..., 0., 0., 0.],\n",
       "        ...,\n",
       "        [0., 0., 0.,  ..., 0., 0., 0.],\n",
       "        [0., 0., 0.,  ..., 1., 0., 0.],\n",
       "        [0., 0., 0.,  ..., 0., 0., 0.]])"
      ]
     },
     "execution_count": 36,
     "metadata": {},
     "output_type": "execute_result"
    }
   ],
   "source": [
    "target_onehot = torch.zeros(target.shape[0], 10)\n",
    "target_onehot.scatter_(1, target.unsqueeze(1).long(), 1.0) # for each row take idx corresp to element in target and set to 1.0 in target_onehot\n",
    "# first arg is dim along which the following two args are specified, \n",
    "# second arg is a column tensor indicating idx of element to scatter,\n",
    "# third arg is the elements/single scalar to scatter"
   ]
  },
  {
   "cell_type": "markdown",
   "metadata": {},
   "source": [
    "More data prep"
   ]
  },
  {
   "cell_type": "code",
   "execution_count": 37,
   "metadata": {},
   "outputs": [
    {
     "data": {
      "text/plain": [
       "tensor([6.8548e+00, 2.7824e-01, 3.3419e-01, 6.3914e+00, 4.5772e-02, 3.5308e+01,\n",
       "        1.3836e+02, 9.9403e-01, 3.1883e+00, 4.8985e-01, 1.0514e+01])"
      ]
     },
     "execution_count": 37,
     "metadata": {},
     "output_type": "execute_result"
    }
   ],
   "source": [
    "data_mean = torch.mean(data, dim=0)\n",
    "data_mean # gets mean in every column"
   ]
  },
  {
   "cell_type": "code",
   "execution_count": 38,
   "metadata": {},
   "outputs": [
    {
     "data": {
      "text/plain": [
       "tensor([7.1211e-01, 1.0160e-02, 1.4646e-02, 2.5726e+01, 4.7733e-04, 2.8924e+02,\n",
       "        1.8061e+03, 8.9455e-06, 2.2801e-02, 1.3025e-02, 1.5144e+00])"
      ]
     },
     "execution_count": 38,
     "metadata": {},
     "output_type": "execute_result"
    }
   ],
   "source": [
    "data_var = torch.var(data, dim=0)\n",
    "data_var"
   ]
  },
  {
   "cell_type": "code",
   "execution_count": 39,
   "metadata": {},
   "outputs": [],
   "source": [
    "data_normalized = (data - data_mean)/torch.sqrt(data_var)"
   ]
  },
  {
   "cell_type": "markdown",
   "metadata": {},
   "source": [
    "Now back to new analysis. Use normalized data and one-hot encoding of target."
   ]
  },
  {
   "cell_type": "code",
   "execution_count": 40,
   "metadata": {},
   "outputs": [
    {
     "data": {
      "text/plain": [
       "(torch.Size([4898, 11]), torch.Size([4898, 10]))"
      ]
     },
     "execution_count": 40,
     "metadata": {},
     "output_type": "execute_result"
    }
   ],
   "source": [
    "data_normalized.shape, target_onehot.shape"
   ]
  },
  {
   "cell_type": "markdown",
   "metadata": {},
   "source": [
    "Create training and validation sets."
   ]
  },
  {
   "cell_type": "code",
   "execution_count": 41,
   "metadata": {},
   "outputs": [
    {
     "data": {
      "text/plain": [
       "([8, 1, 9], [4, 6, 3, 0, 2, 5, 7])"
      ]
     },
     "execution_count": 41,
     "metadata": {},
     "output_type": "execute_result"
    }
   ],
   "source": [
    "x, y = torch.utils.data.random_split(range(10), [3, 7])\n",
    "[i for i in x], [i for i in y]"
   ]
  },
  {
   "cell_type": "code",
   "execution_count": 42,
   "metadata": {},
   "outputs": [],
   "source": [
    "train_size = int(data_normalized.shape[0]*0.8)\n",
    "val_size = data_normalized.shape[0] - train_size\n",
    "train_set, val_set = torch.utils.data.random_split(data_normalized, [train_size, val_size])"
   ]
  },
  {
   "cell_type": "markdown",
   "metadata": {},
   "source": [
    "Using [this to get training and validation split](https://stackoverflow.com/questions/50544730/how-do-i-split-a-custom-dataset-into-training-and-test-datasets)."
   ]
  },
  {
   "cell_type": "code",
   "execution_count": 43,
   "metadata": {},
   "outputs": [],
   "source": [
    "indices = list(range(data_normalized.shape[0]))\n",
    "np.random.shuffle(indices)\n",
    "split_idx = int(data_normalized.shape[0]*0.8)\n",
    "train_idxs, val_idxs = indices[:split_idx], indices[split_idx:]"
   ]
  },
  {
   "cell_type": "code",
   "execution_count": 44,
   "metadata": {},
   "outputs": [],
   "source": [
    "train_set = data_normalized[train_idxs]\n",
    "val_set = data_normalized[val_idxs]\n",
    "train_output = target_onehot[train_idxs]\n",
    "val_output = target_onehot[val_idxs]"
   ]
  },
  {
   "cell_type": "markdown",
   "metadata": {},
   "source": [
    "Now create and run a model."
   ]
  },
  {
   "cell_type": "code",
   "execution_count": 45,
   "metadata": {},
   "outputs": [],
   "source": [
    "n_inputs = data_normalized.shape[1]\n",
    "n_outputs = target_onehot.shape[1]\n",
    "n_hidden_neurons = 10\n",
    "seq_model = nn.Sequential(nn.Linear(n_inputs, n_hidden_neurons),\n",
    "                          nn.Tanh(),\n",
    "                          nn.Linear(n_hidden_neurons, n_outputs),\n",
    "                          nn.Softmax(dim=1)) # to represent probabilities"
   ]
  },
  {
   "cell_type": "markdown",
   "metadata": {},
   "source": [
    "Adjust loss to work with one-hot target."
   ]
  },
  {
   "cell_type": "code",
   "execution_count": 46,
   "metadata": {},
   "outputs": [],
   "source": [
    "def cross_entropy(inp, out):\n",
    "    return torch.mean(-1*torch.sum(torch.tensor(range(1, inp.shape[1] + 1))*torch.log(inp), dim=1))"
   ]
  },
  {
   "cell_type": "code",
   "execution_count": 47,
   "metadata": {},
   "outputs": [
    {
     "data": {
      "text/plain": [
       "tensor(129.9237, grad_fn=<MeanBackward0>)"
      ]
     },
     "execution_count": 47,
     "metadata": {},
     "output_type": "execute_result"
    }
   ],
   "source": [
    "cross_entropy(seq_model(train_set[:2]), train_output[:2])"
   ]
  },
  {
   "cell_type": "code",
   "execution_count": 48,
   "metadata": {},
   "outputs": [
    {
     "name": "stdout",
     "output_type": "stream",
     "text": [
      "Epoch 1, Training loss 130.6483, Validation loss 130.6815\n",
      "Epoch 1000, Training loss 118.3246, Validation loss 118.3244\n",
      "Epoch 2000, Training loss 118.3227, Validation loss 118.3226\n",
      "Epoch 3000, Training loss 118.3219, Validation loss 118.3219\n",
      "Epoch 4000, Training loss 118.3215, Validation loss 118.3215\n",
      "Epoch 5000, Training loss 118.3213, Validation loss 118.3212\n",
      "Epoch 6000, Training loss 118.3211, Validation loss 118.3211\n",
      "Epoch 7000, Training loss 118.3210, Validation loss 118.3210\n",
      "Epoch 8000, Training loss 118.3209, Validation loss 118.3209\n",
      "Epoch 9000, Training loss 118.3208, Validation loss 118.3208\n",
      "Epoch 10000, Training loss 118.3208, Validation loss 118.3208\n",
      "output tensor([[0.0182, 0.0362, 0.0545,  ..., 0.1454, 0.1641, 0.1820],\n",
      "        [0.0180, 0.0364, 0.0544,  ..., 0.1457, 0.1632, 0.1822],\n",
      "        [0.0181, 0.0367, 0.0544,  ..., 0.1460, 0.1634, 0.1808],\n",
      "        ...,\n",
      "        [0.0179, 0.0362, 0.0543,  ..., 0.1454, 0.1636, 0.1822],\n",
      "        [0.0181, 0.0364, 0.0545,  ..., 0.1454, 0.1635, 0.1818],\n",
      "        [0.0183, 0.0361, 0.0548,  ..., 0.1451, 0.1633, 0.1821]],\n",
      "       grad_fn=<SoftmaxBackward0>)\n",
      "answer tensor([[0., 0., 0.,  ..., 0., 0., 0.],\n",
      "        [0., 0., 0.,  ..., 0., 0., 0.],\n",
      "        [0., 0., 0.,  ..., 0., 0., 0.],\n",
      "        ...,\n",
      "        [0., 0., 0.,  ..., 0., 0., 0.],\n",
      "        [0., 0., 0.,  ..., 0., 0., 0.],\n",
      "        [0., 0., 0.,  ..., 0., 0., 0.]])\n",
      "hidden tensor([[-2.5322e-05, -3.9898e-05, -1.6148e-04,  1.7938e-05,  1.0677e-04,\n",
      "         -2.6026e-04, -1.1441e-04, -1.1240e-04,  5.4110e-05, -1.1325e-04],\n",
      "        [-1.8010e-04,  5.3938e-05, -6.1569e-05, -9.3573e-05,  1.3299e-04,\n",
      "          8.6274e-05, -1.3930e-05,  4.2693e-05, -6.4485e-06,  9.8219e-05],\n",
      "        [ 4.3099e-05, -4.0456e-05, -4.9929e-05,  5.4121e-05,  7.7952e-05,\n",
      "         -4.4591e-05,  3.0560e-05, -2.4246e-05,  3.1980e-06,  8.0167e-05],\n",
      "        [ 6.4705e-05,  1.1587e-04,  1.7850e-04,  7.9117e-05, -5.0539e-05,\n",
      "          1.6649e-04,  2.2882e-05,  1.4004e-04, -2.9567e-05,  3.5981e-05],\n",
      "        [ 1.4381e-04, -9.4042e-05,  5.5887e-05,  1.5087e-04, -1.0454e-04,\n",
      "          1.3867e-04, -4.6846e-05,  1.7908e-04,  3.2355e-05,  5.8368e-05],\n",
      "        [-2.3649e-05, -5.4486e-05,  2.4453e-04, -8.5010e-05, -1.2732e-04,\n",
      "         -7.5008e-05,  1.2941e-04,  1.3371e-04, -4.6432e-05, -4.9530e-05],\n",
      "        [ 2.0681e-04, -1.6587e-04,  1.0474e-04,  6.1233e-05, -5.9963e-05,\n",
      "         -9.8134e-05,  1.1222e-04, -2.9130e-05,  8.5657e-06,  2.0303e-05],\n",
      "        [-2.4275e-04, -1.3965e-05, -2.9805e-04, -1.7145e-04,  4.3793e-05,\n",
      "         -6.7738e-05, -8.2492e-05, -1.2793e-04,  1.7667e-05,  3.4745e-06],\n",
      "        [ 1.0343e-04,  6.9012e-05, -6.9756e-05,  1.9966e-04,  7.9178e-05,\n",
      "          1.7242e-04, -1.9681e-04,  4.9925e-05,  3.3898e-05,  7.8127e-05],\n",
      "        [-9.0150e-05,  1.6995e-04,  5.7242e-05, -2.1305e-04, -9.8552e-05,\n",
      "         -1.8077e-05,  1.5955e-04, -2.5182e-04, -6.6766e-05, -2.1203e-04]])\n"
     ]
    }
   ],
   "source": [
    "learning_rate = 1e-2\n",
    "optimizer = optim.SGD(seq_model.parameters(), learning_rate)\n",
    "\n",
    "training_loop(10000, optimizer, seq_model, cross_entropy, train_set, val_set, train_output, val_output)\n",
    "\n",
    "print('output', seq_model(val_set))\n",
    "print('answer', val_output)\n",
    "print('hidden', seq_model[2].weight.grad)"
   ]
  },
  {
   "cell_type": "markdown",
   "metadata": {},
   "source": [
    "Come back to this once I have a bit more understanding."
   ]
  }
 ],
 "metadata": {
  "kernelspec": {
   "display_name": "deep_learn",
   "language": "python",
   "name": "deep_learn"
  },
  "language_info": {
   "codemirror_mode": {
    "name": "ipython",
    "version": 3
   },
   "file_extension": ".py",
   "mimetype": "text/x-python",
   "name": "python",
   "nbconvert_exporter": "python",
   "pygments_lexer": "ipython3",
   "version": "3.7.12"
  }
 },
 "nbformat": 4,
 "nbformat_minor": 4
}
